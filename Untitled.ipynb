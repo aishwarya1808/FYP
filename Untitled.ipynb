{
 "cells": [
  {
   "cell_type": "code",
   "execution_count": 1,
   "metadata": {},
   "outputs": [
    {
     "ename": "NameError",
     "evalue": "name 'mydb' is not defined",
     "output_type": "error",
     "traceback": [
      "\u001b[1;31m---------------------------------------------------------------------------\u001b[0m",
      "\u001b[1;31mNameError\u001b[0m                                 Traceback (most recent call last)",
      "\u001b[1;32m<ipython-input-1-23b9f5369c8c>\u001b[0m in \u001b[0;36m<module>\u001b[1;34m()\u001b[0m\n\u001b[1;32m----> 1\u001b[1;33m \u001b[0mmycol\u001b[0m\u001b[1;33m=\u001b[0m\u001b[0mmydb\u001b[0m\u001b[1;33m[\u001b[0m\u001b[1;34m\"sensor_data_fan\"\u001b[0m\u001b[1;33m]\u001b[0m\u001b[1;33m\u001b[0m\u001b[0m\n\u001b[0m\u001b[0;32m      2\u001b[0m \u001b[0mmyquery\u001b[0m\u001b[1;33m=\u001b[0m\u001b[1;33m{\u001b[0m\u001b[1;34m\"date\"\u001b[0m\u001b[1;33m:\u001b[0m\u001b[0mdatetime\u001b[0m\u001b[1;33m.\u001b[0m\u001b[0mtoday\u001b[0m\u001b[1;33m(\u001b[0m\u001b[1;33m)\u001b[0m \u001b[1;33m,\u001b[0m \u001b[1;34m\"ir\"\u001b[0m\u001b[1;33m:\u001b[0m\u001b[1;34m\"No\"\u001b[0m\u001b[1;33m}\u001b[0m\u001b[1;33m\u001b[0m\u001b[0m\n\u001b[0;32m      3\u001b[0m \u001b[0mmydoc\u001b[0m \u001b[1;33m=\u001b[0m \u001b[0mmycol\u001b[0m\u001b[1;33m.\u001b[0m\u001b[0mfind\u001b[0m\u001b[1;33m(\u001b[0m\u001b[0mmyquery\u001b[0m\u001b[1;33m)\u001b[0m\u001b[1;33m\u001b[0m\u001b[0m\n\u001b[0;32m      4\u001b[0m \u001b[1;33m\u001b[0m\u001b[0m\n\u001b[0;32m      5\u001b[0m \u001b[0mval\u001b[0m\u001b[1;33m=\u001b[0m\u001b[1;33m[\u001b[0m\u001b[1;33m]\u001b[0m\u001b[1;33m\u001b[0m\u001b[0m\n",
      "\u001b[1;31mNameError\u001b[0m: name 'mydb' is not defined"
     ]
    }
   ],
   "source": [
    "mycol=mydb[\"sensor_data_fan\"]\n",
    "myquery={\"date\":datetime.today() , \"ir\":\"No\"}\n",
    "mydoc = mycol.find(myquery)\n",
    "\n",
    "val=[]\n",
    "val1=[]\n",
    "dat=[]\n",
    "dat1=[]\n",
    "#val= mycol.find({},{\"date\":datetime.today() , \"ir\":\"Yes\"}).sort('_id',-1).limit(5);\n",
    "val= mycol.find({},{\"value\":1 ,\"_id\":0}).sort('_id',-1).limit(15);\n",
    "val1=mycol.find({},{\"temp\":1 ,\"_id\":0}).sort('_id',-1).limit(15);\n",
    "    #val.append(x)\n",
    "for i in val1:\n",
    "    #print(i)\n",
    "    txt=str(i)\n",
    "    x=txt.split(\" \")\n",
    "    dat.append(float(\"\".join(x)))\n",
    "    #x=re.findall(\"[-+]?([0-9]*\\.[0-9]+|[0-9]+)\",txt)\n",
    "    #a=float(\"\".join(x))\n",
    "    #dat.append(a)\n",
    "    \n",
    "#for i in val1:\n",
    "    #print(i)\n",
    "#    txt=str(i)\n",
    "#    x=re.findall(\"[-+]?([0-9]*\\.[0-9]+|[0-9]+)\",txt)\n",
    "#    a=float(\"\".join(x))\n",
    "#    dat1.append(a)\n",
    "\n",
    "sum1=0.0\n",
    "#for x in dat:\n",
    "#    sum1+=x\n",
    "val1=0\n",
    "val2=0\n",
    "val3=0\n",
    "val1=dat[0]+dat[1]+dat[3]+dat[4]+dat[5]\n",
    "val2=dat[6]+dat[7]+dat[8]+dat[9]+dat[10]\n",
    "val3=dat[11]+dat[12]+dat[13]+dat[14]+dat[15]\n",
    "\n",
    "\n",
    "ans1=average_consumption_fan_calc(val1,5.0)\n",
    "ans2=average_consumption_fan_calc(val2,5.0)\n",
    "ans3=average_consumption_fan_calc(val3,5.0)\n",
    "\n",
    "#print(ans1)\n",
    "#print(ans2)\n",
    "#print(ans3)\n",
    "\n",
    "if(ans1>=ans2 or ans1>=ans3):\n",
    "    print(\"Average consumption of fan between () =\",ans1)\n",
    "    print()\n",
    "elif(ans2>=ans1 or ans2>=ans3):\n",
    "    print(\"Average consumption of fan between () =\",ans2)\n",
    "    print()\n",
    "else:\n",
    "    print(\"Average consumption of fan between () =\",ans3)\n",
    "    print(\"Consumption is optimum...\")\n"
   ]
  },
  {
   "cell_type": "code",
   "execution_count": null,
   "metadata": {},
   "outputs": [],
   "source": [
    "if(int(ans1)>=int(ans2) or int(ans1)>=int(ans3)):\n",
    "    print(\"Average consumption of fan between () =\",ans1)\n",
    "    print()\n",
    "elif(int(ans2)>=int(ans1) or int(ans2)>=int(ans3)):\n",
    "    print(\"Average consumption of fan between () =\",ans2)\n",
    "    print()\n",
    "else:\n",
    "    print(\"Average consumption of fan between () =\",ans3)\n",
    "    print(\"Consumption is optimum...\")\n",
    "\n",
    "\n"
   ]
  },
  {
   "cell_type": "code",
   "execution_count": null,
   "metadata": {},
   "outputs": [],
   "source": []
  }
 ],
 "metadata": {
  "kernelspec": {
   "display_name": "Python 3",
   "language": "python",
   "name": "python3"
  },
  "language_info": {
   "codemirror_mode": {
    "name": "ipython",
    "version": 3
   },
   "file_extension": ".py",
   "mimetype": "text/x-python",
   "name": "python",
   "nbconvert_exporter": "python",
   "pygments_lexer": "ipython3",
   "version": "3.6.5"
  }
 },
 "nbformat": 4,
 "nbformat_minor": 2
}
